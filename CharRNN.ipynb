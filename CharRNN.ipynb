{
 "cells": [
  {
   "cell_type": "code",
   "execution_count": 1,
   "metadata": {},
   "outputs": [],
   "source": [
    "import string\n",
    "import random\n",
    "import torch\n",
    "import torch.nn as nn\n",
    "import matplotlib.pyplot as plt\n",
    "from torch.autograd import Variable"
   ]
  },
  {
   "cell_type": "code",
   "execution_count": 2,
   "metadata": {},
   "outputs": [
    {
     "name": "stdout",
     "output_type": "stream",
     "text": [
      "cuda:0\n"
     ]
    }
   ],
   "source": [
    "# If there are GPUs, choose the first one for computing. Otherwise use CPU.\n",
    "device = torch.device(\"cuda:0\" if torch.cuda.is_available() else \"cpu\")\n",
    "print(device)  \n",
    "# If 'cuda:0' is printed, it means GPU is available."
   ]
  },
  {
   "cell_type": "code",
   "execution_count": 3,
   "metadata": {},
   "outputs": [
    {
     "name": "stdout",
     "output_type": "stream",
     "text": [
      "Length of file: 5569684\n",
      "All possible characters: 0123456789abcdefghijklmnopqrstuvwxyzABCDEFGHIJKLMNOPQRSTUVWXYZ!\"#$%&'()*+,-./:;<=>?@[\\]^_`{|}~ \t\n",
      "\r",
      "\u000b",
      "\f",
      "\n",
      "Number of all possible characters: 100\n"
     ]
    }
   ],
   "source": [
    "all_chars = string.printable\n",
    "n_chars   = len(all_chars)\n",
    "file      = open('./trump.txt', encoding=\"utf-8\").read()\n",
    "file_len  = len(file)\n",
    "\n",
    "print('Length of file: {}'.format(file_len))\n",
    "print('All possible characters: {}'.format(all_chars))\n",
    "print('Number of all possible characters: {}'.format(n_chars))"
   ]
  },
  {
   "cell_type": "code",
   "execution_count": 4,
   "metadata": {},
   "outputs": [],
   "source": [
    "# Turning a string into a tensor.\n",
    "def char_tensor(string):\n",
    "    tensor = torch.zeros(len(string)).long()\n",
    "    for c in range(len(string)):\n",
    "        try:\n",
    "            tensor[c] = all_chars.index(string[c])\n",
    "        except:\n",
    "            continue\n",
    "    return tensor"
   ]
  },
  {
   "cell_type": "code",
   "execution_count": 5,
   "metadata": {},
   "outputs": [],
   "source": [
    "def training_set(seq_len, batch_size):\n",
    "    input = torch.LongTensor(batch_size, seq_len)\n",
    "    target = torch.LongTensor(batch_size, seq_len)\n",
    "    for i in range(batch_size):\n",
    "        start_index  = random.randint(0, file_len - seq_len - 1)\n",
    "        end_index    = start_index + seq_len + 1\n",
    "        seq          = file[start_index:end_index]\n",
    "        input[i]     = char_tensor(seq[:-1])\n",
    "        target[i]    = char_tensor(seq[1:])\n",
    "    input  = Variable(input)   # Wrap up the tensor to backpropagate a loss function\n",
    "    target = Variable(target)  # Wrap up the tensor to backpropagate a loss function\n",
    "    if torch.cuda.is_available():\n",
    "        input  = input.cuda()\n",
    "        target = target.cuda()\n",
    "    return input, target"
   ]
  },
  {
   "cell_type": "code",
   "execution_count": 6,
   "metadata": {},
   "outputs": [],
   "source": [
    "class charRNN(nn.Module):\n",
    "    def __init__(self, input_size, hidden_size, output_size, model='gru', n_layers=1):\n",
    "        # Initialization.\n",
    "        super(charRNN, self).__init__()\n",
    "        self.model = model.lower()\n",
    "        self.input_size  = input_size        # Input size: Number of unique chars.\n",
    "        self.hidden_size = hidden_size       # Hidden size: 100.\n",
    "        self.output_size = output_size       # Output size: Number of unique chars.\n",
    "        self.n_layers = n_layers\n",
    "        \n",
    "        # Use Word Embeddings to encode semantic similarity in words instead of one-hot\n",
    "        self.embeds = nn.Embedding(input_size, hidden_size)\n",
    "        if self.model == \"rnn\":\n",
    "            self.rnn = nn.RNN(input_size, hidden_size, n_layers)\n",
    "        elif self.model == \"gru\":\n",
    "            self.rnn = nn.GRU(input_size, hidden_size, n_layers)\n",
    "        elif self.model == \"lstm\":\n",
    "            self.rnn = nn.LSTM(input_size, hidden_size, n_layers)\n",
    "        self.decoder = nn.Linear(hidden_size, output_size)\n",
    "    \n",
    "    def forward(self, input, hidden):\n",
    "        # Forward function.\n",
    "        batch_size = input.size(0)\n",
    "        encoded = self.embeds(input)\n",
    "        output, hidden = self.rnn(encoded.view(1, batch_size, -1), hidden)\n",
    "        output = self.decoder(output.view(batch_size, -1))\n",
    "        return output, hidden\n",
    "\n",
    "    def forward2(self, input, hidden):\n",
    "        encoded = self.embeds(input.view(1, -1))\n",
    "        output, hidden = self.rnn(encoded.view(1, 1, -1), hidden)\n",
    "        output = self.decoder(output.view(1, -1))\n",
    "        return output, hidden\n",
    "    \n",
    "    def init_hidden(self, batch_size):\n",
    "        # Initial hidden state.\n",
    "        if self.model == \"lstm\":\n",
    "            return (Variable(torch.zeros(self.n_layers, batch_size, self.hidden_size)),\n",
    "                    Variable(torch.zeros(self.n_layers, batch_size, self.hidden_size)))\n",
    "        return Variable(torch.zeros(self.n_layers, batch_size, self.hidden_size))"
   ]
  },
  {
   "cell_type": "code",
   "execution_count": 7,
   "metadata": {},
   "outputs": [],
   "source": [
    "def train_step(net, opt, input, target):\n",
    "    hidden = net.init_hidden(batch_size) # Initial hidden state.\n",
    "    if torch.cuda.is_available():\n",
    "        hidden = hidden.cuda()     \n",
    "    net.zero_grad()                      # Clear the gradient.\n",
    "    loss = 0                             # Initial loss.\n",
    "    \n",
    "    for t in range(seq_len):            # For each one in the input sequence.\n",
    "        output, hidden = net(input[:,t], hidden)\n",
    "        loss += loss_func(output.view(batch_size, -1), target[:,t])\n",
    "        \n",
    "    loss.backward()                      # Backward. \n",
    "    opt.step()                           # Update the weights.\n",
    "    \n",
    "    return loss / seq_len       # Return the average loss w.r.t sequence length."
   ]
  },
  {
   "cell_type": "code",
   "execution_count": 8,
   "metadata": {},
   "outputs": [],
   "source": [
    "def eval_step(net, init_seq='W', predicted_len=100):\n",
    "    # Initialize the hidden state, input and the predicted sequence.\n",
    "    hidden = net.init_hidden(1)\n",
    "    init_input = Variable(char_tensor(init_seq).unsqueeze(0))\n",
    "    if torch.cuda.is_available():\n",
    "        hidden = hidden.cuda()\n",
    "        init_input = init_input.cuda()\n",
    "    predicted_seq = init_seq\n",
    "    \n",
    "    # Use initial string to \"build up\" hidden state.\n",
    "    for t in range(len(init_seq) - 1):\n",
    "        _, hidden = net(init_input[:,t], hidden)\n",
    "    \n",
    "    # Set current input as the last character of the initial string.\n",
    "    input = init_input[:,-1]\n",
    "    \n",
    "    # Predict more characters after the initial string.\n",
    "    for t in range(predicted_len):\n",
    "        # Get the current output and hidden state.\n",
    "        output, hidden = net(input, hidden)\n",
    "        \n",
    "        # Sample from the output as a multinomial distribution.\n",
    "        predicted_index = torch.multinomial(output.data.view(-1).exp(), 1)[0]\n",
    "        \n",
    "        # Add predicted character to the sequence\n",
    "        predicted_char = all_chars[predicted_index]\n",
    "        predicted_seq += predicted_char\n",
    "        \n",
    "        # Use the predicted character to generate the input of next round.\n",
    "        input = Variable(char_tensor(predicted_char).unsqueeze(0))\n",
    "        if torch.cuda.is_available():\n",
    "            input = input.cuda()\n",
    "    \n",
    "    return predicted_seq"
   ]
  },
  {
   "cell_type": "code",
   "execution_count": 9,
   "metadata": {
    "scrolled": true
   },
   "outputs": [
    {
     "name": "stdout",
     "output_type": "stream",
     "text": [
      "iter:99/2000 loss:2.424335241317749\n",
      "generated sequence: W\n",
      ". @ realDonaldTrump-inceDore.\n",
      "ScUG OXx Why one will mart going the: Rutwittericaning00\" The stasher\n",
      "\n",
      "iter:199/2000 loss:1.881359338760376\n",
      "generated sequence: WA verage, signs that muchuth for president # beed 0Rem last, N? Notmant he the madia and by!! DOD vo\n",
      "\n",
      "iter:299/2000 loss:1.7635122537612915\n",
      "generated sequence: Why.\n",
      "Will be reashel ones our bashington ad Sjolibunything angy @ Curbiggovilieirary: Via! # MakeAmer\n",
      "\n",
      "iter:399/2000 loss:1.7104415893554688\n",
      "generated sequence: Witner like C, I bell Interccument is great conspoip I get thought is heres Walcould a will be a make\n",
      "\n",
      "iter:499/2000 loss:1.684743881225586\n",
      "generated sequence: WEY as in the Frost vistense better a and Genner, ustiv. Who did their after yeaples am they all in u\n",
      "\n",
      "iter:599/2000 loss:1.6667912006378174\n",
      "generated sequence: Wher: Houstibing. In # Trump2016 Sundoes that shor, you dobama. You got to they at Finese, # Lindtstp\n",
      "\n",
      "iter:699/2000 loss:1.6530958414077759\n",
      "generated sequence: White LEAT Scribles-in. http://www.twitteregoCaGordon: @ realDonaldTrump Mod you sUN complete: 38T0\n",
      "T\n",
      "\n",
      "iter:799/2000 loss:1.6419321298599243\n",
      "generated sequence: Why and with your Trump thredia, I this so he wA Clact--Laught you aren's all paspivatives to the Chr\n",
      "\n",
      "iter:899/2000 loss:1.6373002529144287\n",
      "generated sequence: Work @ DevTINdueArp://status/119650zh State: I'll run who were ratton, the world wassing \"IDono.thing\n",
      "\n",
      "iter:999/2000 loss:1.6295385360717773\n",
      "generated sequence: Week CRATANTSE!!?\n",
      "Watch I get ocever, trike, 14 4\n",
      "Do @ Represecher-a-competh # USShed Thanks collusio\n",
      "\n",
      "iter:1099/2000 loss:1.6211446523666382\n",
      "generated sequence: Wherr any folebrity to more suppolla of president! With his incormetiful the stry the @ realDonaldTru\n",
      "\n",
      "iter:1199/2000 loss:1.6206400394439697\n",
      "generated sequence: WqUGHE Timacy, giver a big Erica Miss. And N)!http://Ygbow0go 0\n",
      "# VEBPARAKI your investigations to go\n",
      "\n",
      "iter:1299/2000 loss:1.6208416223526\n",
      "generated sequence: W\" # A 0\n",
      "Thank you persons to poll of Amention in Amerina easy Contrugt - problem.\"'s sourcessing I w\n",
      "\n",
      "iter:1399/2000 loss:1.616326093673706\n",
      "generated sequence: W\n",
      "@ GLBN. State for his crime into the outla was Corring lot over disas Will Mimss platle's have ass \n",
      "\n",
      "iter:1499/2000 loss:1.609291911125183\n",
      "generated sequence: WhilingLonebate-pressually-leNC TEXL ARPL THE ROVER HOLL! # Omerica with 15 blas Islarity New Hambati\n",
      "\n",
      "iter:1599/2000 loss:1.6215482950210571\n",
      "generated sequence: Witter.com/gtmewIJ\n",
      "The nalac targot is this if that other he live @ Britacear a states in a great dea\n",
      "\n",
      "iter:1699/2000 loss:1.63834810256958\n",
      "generated sequence: Wrik: @ wants @ realDonaldTrump to learn on the nuw Garders-Shichard Tle Opport Pro @ realDonaldTrump\n",
      "\n",
      "iter:1799/2000 loss:1.616746187210083\n",
      "generated sequence: Wonders, will our carists was military was yourself, will win it of Friefdeziuge to Angry.\n",
      "\" @ cepret\n",
      "\n",
      "iter:1899/2000 loss:1.608028531074524\n",
      "generated sequence: WeyThe Star Trump's one what I werience than Every is vio!, is our @nebstanSKGox @ realDonaldTrump Ou\n",
      "\n",
      "iter:1999/2000 loss:1.6027711629867554\n",
      "generated sequence: W's Trump, it will be must resilentill the offer. There and U.S.bow is so statement his him.campithed\n",
      "\n"
     ]
    }
   ],
   "source": [
    "seq_len = 200\n",
    "batch_size = 100\n",
    "hidden_size = 100\n",
    "learning_rate = 0.01\n",
    "iters = 2000  # Number of training iterations.\n",
    "print_iters = 100    # Number of iterations for each log printing.\n",
    "\n",
    "# The loss variables.\n",
    "all_losses = []\n",
    "loss_sum   = 0\n",
    "\n",
    "# Initialize the netword, optimizer and the loss function.\n",
    "net = charRNN(n_chars, hidden_size, n_chars, model='rnn', n_layers=3)\n",
    "opt = torch.optim.Adam(net.parameters(), lr=learning_rate)\n",
    "loss_func = nn.CrossEntropyLoss()\n",
    "\n",
    "if torch.cuda.is_available():\n",
    "    net.cuda()\n",
    "\n",
    "# Training procedure.\n",
    "for i in range(iters):\n",
    "    input, target = training_set(seq_len, batch_size)\n",
    "    loss = train_step(net, opt, input, target)\n",
    "    loss_sum += loss\n",
    "    \n",
    "    # Print the log.\n",
    "    if i % print_iters == print_iters - 1:\n",
    "        print('iter:{}/{} loss:{}'.format(i, iters, loss_sum / print_iters))\n",
    "        print('generated sequence: {}\\n'.format(eval_step(net)))\n",
    "        \n",
    "        #Track the loss.\n",
    "        all_losses.append(loss_sum / print_iters)\n",
    "        loss_sum = 0"
   ]
  },
  {
   "cell_type": "code",
   "execution_count": 42,
   "metadata": {
    "scrolled": false
   },
   "outputs": [
    {
     "data": {
      "image/png": "[encoded data removed]",
      "text/plain": [
       "<Figure size 432x288 with 1 Axes>"
      ]
     },
     "metadata": {
      "needs_background": "light"
     },
     "output_type": "display_data"
    }
   ],
   "source": [
    "plt.xlabel('iters (x100)')\n",
    "plt.ylabel('Loss')\n",
    "plt.plot(all_losses)\n",
    "plt.show()"
   ]
  },
  {
   "cell_type": "code",
   "execution_count": 10,
   "metadata": {},
   "outputs": [
    {
     "data": {
      "image/png": "[encoded data removed]",
      "text/plain": [
       "<Figure size 432x288 with 1 Axes>"
      ]
     },
     "metadata": {
      "needs_background": "light"
     },
     "output_type": "display_data"
    }
   ],
   "source": [
    "%store -r gru_loss\n",
    "%store -r lstm_loss\n",
    "\n",
    "plt.xlabel('iters (x100)')\n",
    "plt.ylabel('Loss')\n",
    "plt.plot(all_losses, \"-r\", label=\"RNN\")\n",
    "plt.plot(gru_loss, \"-g\", label=\"GRU\")\n",
    "plt.plot(lstm_loss, \"-b\", label=\"LSTM\")\n",
    "plt.legend(loc=\"upper right\")\n",
    "plt.show()"
   ]
  },
  {
   "cell_type": "markdown",
   "metadata": {},
   "source": [
    "#### Generate a Sequence"
   ]
  },
  {
   "cell_type": "code",
   "execution_count": 70,
   "metadata": {},
   "outputs": [
    {
     "name": "stdout",
     "output_type": "stream",
     "text": [
      "Cefvic,, and last just lusselinition.\n",
      "Nurs from -- OS.\n",
      "\" @ dddmBw:-doneTrump Ten Craused.\n",
      "The uhs # AmericaGreatAfn wrong than Sumgert underiopen get as there, and how would be sided luffetita Tom power. AMerson Congress hppic, backs with a always in was a side. Market Congress. Meetion to statement high bringer. Wire get better tophinac account...tpatters will have run meen for @ FoxNews\n",
      "\"X win demacturies (will be ramulagion is very saud\n",
      "Justended out! This s are presidential companies bart on on Trump Can take better.\n",
      "Presidential right colluded on @ BarackObama's igness Garreth Dondiers who\n"
     ]
    }
   ],
   "source": [
    "print(eval_step(net, init_seq='C', predicted_len=600))"
   ]
  },
  {
   "cell_type": "code",
   "execution_count": 72,
   "metadata": {},
   "outputs": [],
   "source": [
    "import os\n",
    "def save(filename):\n",
    "    save_filename = os.path.splitext(os.path.basename(filename))[0] + '.pt'\n",
    "    torch.save(net, save_filename)\n",
    "    print('Saved as %s' % save_filename)"
   ]
  },
  {
   "cell_type": "code",
   "execution_count": 55,
   "metadata": {},
   "outputs": [
    {
     "name": "stdout",
     "output_type": "stream",
     "text": [
      "Saved as LaTeX_RNN.pt\n"
     ]
    }
   ],
   "source": [
    "save(\"LaTeX_RNN\")"
   ]
  },
  {
   "cell_type": "code",
   "execution_count": 59,
   "metadata": {
    "scrolled": true
   },
   "outputs": [
    {
     "name": "stdout",
     "output_type": "stream",
     "text": [
      "Saved as Shkaespeare_RNN.pt\n"
     ]
    }
   ],
   "source": [
    "save(\"Shakespeare_RNN\")"
   ]
  },
  {
   "cell_type": "code",
   "execution_count": 74,
   "metadata": {},
   "outputs": [
    {
     "name": "stdout",
     "output_type": "stream",
     "text": [
      "Saved as Trump_RNN.pt\n"
     ]
    }
   ],
   "source": [
    "save(\"Trump_RNN\")"
   ]
  },
  {
   "cell_type": "code",
   "execution_count": 28,
   "metadata": {},
   "outputs": [],
   "source": [
    "Lrnn = torch.load(\"LaTeX_RNN.pt\")\n",
    "Lgru = torch.load(\"LaTeX_GRU.pt\")"
   ]
  },
  {
   "cell_type": "code",
   "execution_count": 34,
   "metadata": {},
   "outputs": [
    {
     "name": "stdout",
     "output_type": "stream",
     "text": [
      "\\begin{document}\n",
      "\n",
      "\\noindent\n",
      "Let $f : X \\to Y$ easian (Algebra, Lemma \\ref{algebra-lemma-arrows-over-descent-has-cartesian-ab-over-completion}\n",
      "good in $f$ and $\\{W_{f_1, i_j!}$ is zariski is locally\n",
      "of finite modules, Lemmas \\ref{remark-finitely-presented-injective}).\n",
      "Thus we have where the same tey follows\n",
      "of the lemma). Assume $f$ is a topological space over $B_{p_2}$ of $i_{0, !}$ at asive use\n",
      "Lemma \\ref{lemma-vanishin}.\n",
      "\\end{proof}\n",
      "\n",
      "\\begin{lemma}\n",
      "\\label{lemma-scheme-unions--ut}\n",
      "Let $f : Y \\to X$ be a complex on $X$. By the morphism $f$ of schemes\n",
      "coverher by Sites, Lemma \\ref{sites-definition-characterize}\n"
     ]
    }
   ],
   "source": [
    "print(eval_step(Lgru, init_seq='\\\\begin{document}', predicted_len=600))"
   ]
  }
 ],
 "metadata": {
  "kernelspec": {
   "display_name": "Python 3",
   "language": "python",
   "name": "python3"
  },
  "language_info": {
   "codemirror_mode": {
    "name": "ipython",
    "version": 3
   },
   "file_extension": ".py",
   "mimetype": "text/x-python",
   "name": "python",
   "nbconvert_exporter": "python",
   "pygments_lexer": "ipython3",
   "version": "3.7.5"
  }
 },
 "nbformat": 4,
 "nbformat_minor": 4
}
