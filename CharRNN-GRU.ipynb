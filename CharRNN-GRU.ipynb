{
 "cells": [
  {
   "cell_type": "code",
   "execution_count": 1,
   "metadata": {},
   "outputs": [],
   "source": [
    "import string\n",
    "import random\n",
    "import torch\n",
    "import torch.nn as nn\n",
    "import matplotlib.pyplot as plt\n",
    "from torch.autograd import Variable"
   ]
  },
  {
   "cell_type": "code",
   "execution_count": 2,
   "metadata": {},
   "outputs": [
    {
     "name": "stdout",
     "output_type": "stream",
     "text": [
      "cuda:0\n"
     ]
    }
   ],
   "source": [
    "# If there are GPUs, choose the first one for computing. Otherwise use CPU.\n",
    "device = torch.device(\"cuda:0\" if torch.cuda.is_available() else \"cpu\")\n",
    "print(device)  \n",
    "# If 'cuda:0' is printed, it means GPU is available."
   ]
  },
  {
   "cell_type": "code",
   "execution_count": 3,
   "metadata": {},
   "outputs": [
    {
     "name": "stdout",
     "output_type": "stream",
     "text": [
      "Length of file: 5569684\n",
      "All possible characters: 0123456789abcdefghijklmnopqrstuvwxyzABCDEFGHIJKLMNOPQRSTUVWXYZ!\"#$%&'()*+,-./:;<=>?@[\\]^_`{|}~ \t\n",
      "\r",
      "\u000b",
      "\f",
      "\n",
      "Number of all possible characters: 100\n"
     ]
    }
   ],
   "source": [
    "all_chars = string.printable\n",
    "n_chars   = len(all_chars)\n",
    "file      = open('./trump.txt', encoding=\"utf-8\").read()\n",
    "file_len  = len(file)\n",
    "\n",
    "print('Length of file: {}'.format(file_len))\n",
    "print('All possible characters: {}'.format(all_chars))\n",
    "print('Number of all possible characters: {}'.format(n_chars))"
   ]
  },
  {
   "cell_type": "code",
   "execution_count": 4,
   "metadata": {},
   "outputs": [],
   "source": [
    "# Turning a string into a tensor.\n",
    "def char_tensor(string):\n",
    "    tensor = torch.zeros(len(string)).long()\n",
    "    for c in range(len(string)):\n",
    "        try:\n",
    "            tensor[c] = all_chars.index(string[c])\n",
    "        except:\n",
    "            continue\n",
    "    return tensor"
   ]
  },
  {
   "cell_type": "code",
   "execution_count": 5,
   "metadata": {},
   "outputs": [],
   "source": [
    "def training_set(seq_len, batch_size):\n",
    "    input = torch.LongTensor(batch_size, seq_len)\n",
    "    target = torch.LongTensor(batch_size, seq_len)\n",
    "    for i in range(batch_size):\n",
    "        start_index  = random.randint(0, file_len - seq_len - 1)\n",
    "        end_index    = start_index + seq_len + 1\n",
    "        seq          = file[start_index:end_index]\n",
    "        input[i]     = char_tensor(seq[:-1])\n",
    "        target[i]    = char_tensor(seq[1:])\n",
    "    input  = Variable(input)   # Wrap up the tensor to backpropagate a loss function\n",
    "    target = Variable(target)  # Wrap up the tensor to backpropagate a loss function\n",
    "    if torch.cuda.is_available():\n",
    "        input  = input.cuda()\n",
    "        target = target.cuda()\n",
    "    return input, target"
   ]
  },
  {
   "cell_type": "code",
   "execution_count": 6,
   "metadata": {},
   "outputs": [],
   "source": [
    "class charRNN(nn.Module):\n",
    "    def __init__(self, input_size, hidden_size, output_size, model='gru', n_layers=1):\n",
    "        # Initialization.\n",
    "        super(charRNN, self).__init__()\n",
    "        self.model = model.lower()\n",
    "        self.input_size  = input_size        # Input size: Number of unique chars.\n",
    "        self.hidden_size = hidden_size       # Hidden size: 100.\n",
    "        self.output_size = output_size       # Output size: Number of unique chars.\n",
    "        self.n_layers = n_layers\n",
    "        \n",
    "        # Use Word Embeddings to encode semantic similarity in words instead of one-hot\n",
    "        self.embeds = nn.Embedding(input_size, hidden_size)\n",
    "        if self.model == \"rnn\":\n",
    "            self.rnn = nn.RNN(input_size, hidden_size, n_layers)\n",
    "        elif self.model == \"gru\":\n",
    "            self.rnn = nn.GRU(input_size, hidden_size, n_layers)\n",
    "        elif self.model == \"lstm\":\n",
    "            self.rnn = nn.LSTM(input_size, hidden_size, n_layers)\n",
    "        self.decoder = nn.Linear(hidden_size, output_size)\n",
    "    \n",
    "    def forward(self, input, hidden):\n",
    "        # Forward function.\n",
    "        batch_size = input.size(0)\n",
    "        encoded = self.embeds(input)\n",
    "        output, hidden = self.rnn(encoded.view(1, batch_size, -1), hidden)\n",
    "        output = self.decoder(output.view(batch_size, -1))\n",
    "        return output, hidden\n",
    "\n",
    "    def forward2(self, input, hidden):\n",
    "        encoded = self.embeds(input.view(1, -1))\n",
    "        output, hidden = self.rnn(encoded.view(1, 1, -1), hidden)\n",
    "        output = self.decoder(output.view(1, -1))\n",
    "        return output, hidden\n",
    "    \n",
    "    def init_hidden(self, batch_size):\n",
    "        # Initial hidden state.\n",
    "        if self.model == \"lstm\":\n",
    "            return (Variable(torch.zeros(self.n_layers, batch_size, self.hidden_size)),\n",
    "                    Variable(torch.zeros(self.n_layers, batch_size, self.hidden_size)))\n",
    "        return Variable(torch.zeros(self.n_layers, batch_size, self.hidden_size))"
   ]
  },
  {
   "cell_type": "code",
   "execution_count": 7,
   "metadata": {},
   "outputs": [],
   "source": [
    "def train_step(net, opt, input, target):\n",
    "    hidden = net.init_hidden(batch_size) # Initial hidden state.\n",
    "    if torch.cuda.is_available():\n",
    "        hidden = hidden.cuda()     \n",
    "    net.zero_grad()                      # Clear the gradient.\n",
    "    loss = 0                             # Initial loss.\n",
    "    \n",
    "    for t in range(seq_len):            # For each one in the input sequence.\n",
    "        output, hidden = net(input[:,t], hidden)\n",
    "        loss += loss_func(output.view(batch_size, -1), target[:,t])\n",
    "        \n",
    "    loss.backward()                      # Backward. \n",
    "    opt.step()                           # Update the weights.\n",
    "    \n",
    "    return loss / seq_len       # Return the average loss w.r.t sequence length."
   ]
  },
  {
   "cell_type": "code",
   "execution_count": 8,
   "metadata": {},
   "outputs": [],
   "source": [
    "def eval_step(net, init_seq='W', predicted_len=100):\n",
    "    # Initialize the hidden state, input and the predicted sequence.\n",
    "    hidden = net.init_hidden(1)\n",
    "    init_input = Variable(char_tensor(init_seq).unsqueeze(0))\n",
    "    if torch.cuda.is_available():\n",
    "        hidden = hidden.cuda()\n",
    "        init_input = init_input.cuda()\n",
    "    predicted_seq = init_seq\n",
    "    \n",
    "    # Use initial string to \"build up\" hidden state.\n",
    "    for t in range(len(init_seq) - 1):\n",
    "        _, hidden = net(init_input[:,t], hidden)\n",
    "    \n",
    "    # Set current input as the last character of the initial string.\n",
    "    input = init_input[:,-1]\n",
    "    \n",
    "    # Predict more characters after the initial string.\n",
    "    for t in range(predicted_len):\n",
    "        # Get the current output and hidden state.\n",
    "        output, hidden = net(input, hidden)\n",
    "        \n",
    "        # Sample from the output as a multinomial distribution.\n",
    "        predicted_index = torch.multinomial(output.data.view(-1).exp(), 1)[0]\n",
    "        \n",
    "        # Add predicted character to the sequence\n",
    "        predicted_char = all_chars[predicted_index]\n",
    "        predicted_seq += predicted_char\n",
    "        \n",
    "        # Use the predicted character to generate the input of next round.\n",
    "        input = Variable(char_tensor(predicted_char).unsqueeze(0))\n",
    "        if torch.cuda.is_available():\n",
    "            input = input.cuda()\n",
    "    \n",
    "    return predicted_seq"
   ]
  },
  {
   "cell_type": "code",
   "execution_count": 9,
   "metadata": {
    "scrolled": true
   },
   "outputs": [
    {
     "name": "stdout",
     "output_type": "stream",
     "text": [
      "iter:99/2000 loss:2.6147594451904297\n",
      "generated sequence: Wresterwave to just prodess turn-tendepnterolefdansjod at he consill yeatter, are to loatnounnevels t\n",
      "\n",
      "iter:199/2000 loss:1.8587360382080078\n",
      "generated sequence: Who has maulfulinos didn but my sall wear pengling....\n",
      "....Someare beans of great onest presidemolled\n",
      "\n",
      "iter:299/2000 loss:1.697770357131958\n",
      "generated sequence: Winne-propoles # TogirationalDonaldjtrump.\n",
      "\" @ Thenro Think Philing loves to @ Wenneprain: We are who\n",
      "\n",
      "iter:399/2000 loss:1.6248397827148438\n",
      "generated sequence: Who fore the exadd the victers- - I EWERNY\" Dollars, but our country. quescoty it beay the turt best.\n",
      "\n",
      "iter:499/2000 loss:1.5894415378570557\n",
      "generated sequence: Wontu what the nexard that this had just brave ltidol8hic is you buildie \"stuckaonster Great!\n",
      "\" @ Sum\n",
      "\n",
      "iter:599/2000 loss:1.5635677576065063\n",
      "generated sequence: We have to welve does you....\n",
      ".....wert @ ApprenticeBrest of Trty Defense Jown UNAUNE Kuclear Clin Do\n",
      "\n",
      "iter:699/2000 loss:1.54121994972229\n",
      "generated sequence: WPOSR_AndObama's history. NO WALK! Thank you as all of Thucks.\n",
      "Jiveappends, does @ Chiling, Pend 0Doi\n",
      "\n",
      "iter:799/2000 loss:1.5300995111465454\n",
      "generated sequence: Washing 10 minute basen so support throuse with couldn0s very wetweessed, business to 0Bliker really \n",
      "\n",
      "iter:899/2000 loss:1.5211281776428223\n",
      "generated sequence: Wether torigo, 0MangerAfol is back to be incompeted to started with the people https://www.donaldjtru\n",
      "\n",
      "iter:999/2000 loss:1.5152512788772583\n",
      "generated sequence: WRExIDDoSvASAST 0 for ClOpay Virger, testimes.\n",
      "Great Ragatuies are Mich Noot the has the accounsment \n",
      "\n",
      "iter:1099/2000 loss:1.5092536211013794\n",
      "generated sequence: WHRLPPC \"\n",
      "\"Greens lowest nothing in @ Stecking AM job.\" Brene.\n",
      "\" @ M7Mudlem: @ realDonaldTrump Winner\n",
      "\n",
      "iter:1199/2000 loss:1.502633810043335\n",
      "generated sequence: Windal GreenlDusi Court President Time Campaign incompetent to gle, nevery, but it. Keered ago they a\n",
      "\n",
      "iter:1299/2000 loss:1.4962258338928223\n",
      "generated sequence: What I little supposed the Democrats Ebolo.\n",
      "Entreplays not ask The AvericaGlives mucocicthelved in th\n",
      "\n",
      "iter:1399/2000 loss:1.4904416799545288\n",
      "generated sequence: WRUSHDIRASI 0AMever Trump0s businessional supporting, suricar created the Trust cover of mondader0: N\n",
      "\n",
      "iter:1499/2000 loss:1.4862743616104126\n",
      "generated sequence: What standliving & this the BaSews would # ITS is been why done in your twitter in 27 base from . I t\n",
      "\n",
      "iter:1599/2000 loss:1.4850879907608032\n",
      "generated sequence: Wisgaches.phafre.nighing. Thank you DTALAASt WALL!https://www.facebecold_nookedgage.com/trump- Venize\n",
      "\n",
      "iter:1699/2000 loss:1.4835196733474731\n",
      "generated sequence: WHORN\n",
      "Lot and ever breaking tood suparency. Bling is say far really. Corwed was highing better...\" Th\n",
      "\n",
      "iter:1799/2000 loss:1.4753597974777222\n",
      "generated sequence: White Hat. We are student!\n",
      "Can't wait to prevent that. If Trump staminated by will sure pleasa to fix\n",
      "\n",
      "iter:1899/2000 loss:1.4784338474273682\n",
      "generated sequence: Wayge Nancy Politics Agrez. Doculate is luck so who is all heting immigrative!\n",
      "Trial Heriousreay Whit\n",
      "\n",
      "iter:1999/2000 loss:1.4781779050827026\n",
      "generated sequence: Wornsous continues must straight time. Lettered Sir! # Dephabe_Peal Ricans are beauticket would use h\n",
      "\n"
     ]
    }
   ],
   "source": [
    "seq_len = 200\n",
    "batch_size = 100\n",
    "hidden_size = 100\n",
    "learning_rate = 0.01\n",
    "iters = 2000  # Number of training iterations.\n",
    "print_iters = 100    # Number of iterations for each log printing.\n",
    "\n",
    "# The loss variables.\n",
    "all_losses = []\n",
    "loss_sum   = 0\n",
    "\n",
    "# Initialize the netword, optimizer and the loss function.\n",
    "net = charRNN(n_chars, hidden_size, n_chars, model='gru', n_layers=3)\n",
    "opt = torch.optim.Adam(net.parameters(), lr=learning_rate)\n",
    "loss_func = nn.CrossEntropyLoss()\n",
    "\n",
    "if torch.cuda.is_available():\n",
    "    net.cuda()\n",
    "\n",
    "# Training procedure.\n",
    "for i in range(iters):\n",
    "    input, target = training_set(seq_len, batch_size)\n",
    "    loss = train_step(net, opt, input, target)\n",
    "    loss_sum += loss\n",
    "    \n",
    "    # Print the log.\n",
    "    if i % print_iters == print_iters - 1:\n",
    "        print('iter:{}/{} loss:{}'.format(i, iters, loss_sum / print_iters))\n",
    "        print('generated sequence: {}\\n'.format(eval_step(net)))\n",
    "        \n",
    "        #Track the loss.\n",
    "        all_losses.append(loss_sum / print_iters)\n",
    "        loss_sum = 0"
   ]
  },
  {
   "cell_type": "code",
   "execution_count": 14,
   "metadata": {},
   "outputs": [
    {
     "data": {
      "image/png": "[encoded data removed]",
      "text/plain": [
       "<Figure size 432x288 with 1 Axes>"
      ]
     },
     "metadata": {
      "needs_background": "light"
     },
     "output_type": "display_data"
    }
   ],
   "source": [
    "plt.xlabel('iters (x100)')\n",
    "plt.ylabel('Loss')\n",
    "plt.plot(all_losses)\n",
    "plt.show()"
   ]
  },
  {
   "cell_type": "code",
   "execution_count": 10,
   "metadata": {},
   "outputs": [
    {
     "name": "stdout",
     "output_type": "stream",
     "text": [
      "Stored 'gru_loss' (list)\n"
     ]
    }
   ],
   "source": [
    "gru_loss = all_losses\n",
    "%store gru_loss"
   ]
  },
  {
   "cell_type": "markdown",
   "metadata": {},
   "source": [
    "#### Generate a Sequence"
   ]
  },
  {
   "cell_type": "code",
   "execution_count": 21,
   "metadata": {
    "scrolled": false
   },
   "outputs": [
    {
     "name": "stdout",
     "output_type": "stream",
     "text": [
      "Call so headly of the Pastors has a turned alonies proud, whidue, Birda Busines, to talk it to me back for from People (them for Rep.1\n",
      "Cocaled tonight. Beha-attended, support called to made put our Bight. Greatest less for the Bill, Crime, FakeTuer, better! Cabry BurLey SPAIGNING! Thanks that pick!\n",
      "Nortry Buy-0park is creditms exceines elected American 59 day mun record & due to waste that the Syria on and vuclus hard to couvers for @ RevsJRPut his discussies her voting they reform is NYP in the World cathers magn not a of.th. https://bit.ly/196WWp47 Go Democrats are NOT Things\n",
      "\" @ gowdO a grea\n"
     ]
    }
   ],
   "source": [
    "print(eval_step(net, init_seq='C', predicted_len=600))"
   ]
  },
  {
   "cell_type": "code",
   "execution_count": 22,
   "metadata": {},
   "outputs": [],
   "source": [
    "import os\n",
    "def save(filename):\n",
    "    save_filename = os.path.splitext(os.path.basename(filename))[0] + '.pt'\n",
    "    torch.save(net, save_filename)\n",
    "    print('Saved as %s' % save_filename)"
   ]
  },
  {
   "cell_type": "code",
   "execution_count": 28,
   "metadata": {},
   "outputs": [
    {
     "name": "stdout",
     "output_type": "stream",
     "text": [
      "Saved as LaTeX_GRU.pt\n"
     ]
    }
   ],
   "source": [
    "save(\"LaTeX_GRU\")"
   ]
  },
  {
   "cell_type": "code",
   "execution_count": 32,
   "metadata": {
    "scrolled": true
   },
   "outputs": [
    {
     "name": "stdout",
     "output_type": "stream",
     "text": [
      "Saved as Shakespeare_GRU.pt\n"
     ]
    }
   ],
   "source": [
    "save(\"Shakespeare_GRU\")"
   ]
  },
  {
   "cell_type": "code",
   "execution_count": 24,
   "metadata": {},
   "outputs": [
    {
     "name": "stdout",
     "output_type": "stream",
     "text": [
      "Saved as Trump_GRU.pt\n"
     ]
    }
   ],
   "source": [
    "save(\"Trump_GRU\")"
   ]
  }
 ],
 "metadata": {
  "kernelspec": {
   "display_name": "Python 3",
   "language": "python",
   "name": "python3"
  },
  "language_info": {
   "codemirror_mode": {
    "name": "ipython",
    "version": 3
   },
   "file_extension": ".py",
   "mimetype": "text/x-python",
   "name": "python",
   "nbconvert_exporter": "python",
   "pygments_lexer": "ipython3",
   "version": "3.7.5"
  }
 },
 "nbformat": 4,
 "nbformat_minor": 4
}
